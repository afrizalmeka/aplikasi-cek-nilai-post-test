{
 "cells": [
  {
   "cell_type": "code",
   "execution_count": 52,
   "id": "ab510cf6",
   "metadata": {},
   "outputs": [],
   "source": [
    "import pandas as pd"
   ]
  },
  {
   "cell_type": "code",
   "execution_count": 53,
   "id": "c0bb7491",
   "metadata": {},
   "outputs": [],
   "source": [
    "dir = \"/Users/afrizalmulyana/Library/CloudStorage/OneDrive-PTORBITVENTURAINODNESIA/Afrizal Meka/Project Pribadi/aplikasi-cek-nilai-posttest/database/database.xlsx\"\n",
    "df = pd.read_excel(dir)\n",
    "#index_col=0"
   ]
  },
  {
   "cell_type": "code",
   "execution_count": 54,
   "id": "f0cc61b1",
   "metadata": {},
   "outputs": [
    {
     "data": {
      "text/html": [
       "<div>\n",
       "<style scoped>\n",
       "    .dataframe tbody tr th:only-of-type {\n",
       "        vertical-align: middle;\n",
       "    }\n",
       "\n",
       "    .dataframe tbody tr th {\n",
       "        vertical-align: top;\n",
       "    }\n",
       "\n",
       "    .dataframe thead th {\n",
       "        text-align: right;\n",
       "    }\n",
       "</style>\n",
       "<table border=\"1\" class=\"dataframe\">\n",
       "  <thead>\n",
       "    <tr style=\"text-align: right;\">\n",
       "      <th></th>\n",
       "      <th>nama</th>\n",
       "      <th>nim</th>\n",
       "      <th>univ</th>\n",
       "      <th>prodi</th>\n",
       "      <th>nohp</th>\n",
       "    </tr>\n",
       "  </thead>\n",
       "  <tbody>\n",
       "    <tr>\n",
       "      <th>0</th>\n",
       "      <td>Shi Doel</td>\n",
       "      <td>2033321</td>\n",
       "      <td>Univ Doel</td>\n",
       "      <td>Teknik</td>\n",
       "      <td>82225700071</td>\n",
       "    </tr>\n",
       "    <tr>\n",
       "      <th>1</th>\n",
       "      <td>Shi Jack</td>\n",
       "      <td>223910123</td>\n",
       "      <td>Univ Jack</td>\n",
       "      <td>Psio</td>\n",
       "      <td>99239292</td>\n",
       "    </tr>\n",
       "    <tr>\n",
       "      <th>2</th>\n",
       "      <td>Shi Liem</td>\n",
       "      <td>88292923</td>\n",
       "      <td>Univ Liem</td>\n",
       "      <td>FKIP</td>\n",
       "      <td>992323232</td>\n",
       "    </tr>\n",
       "  </tbody>\n",
       "</table>\n",
       "</div>"
      ],
      "text/plain": [
       "       nama        nim       univ   prodi         nohp\n",
       "0  Shi Doel    2033321  Univ Doel  Teknik  82225700071\n",
       "1  Shi Jack  223910123  Univ Jack    Psio     99239292\n",
       "2  Shi Liem   88292923  Univ Liem    FKIP    992323232"
      ]
     },
     "execution_count": 54,
     "metadata": {},
     "output_type": "execute_result"
    }
   ],
   "source": [
    "df"
   ]
  },
  {
   "cell_type": "code",
   "execution_count": 55,
   "id": "4da347d0",
   "metadata": {},
   "outputs": [],
   "source": [
    "df['nama'] = df['nama'].str.lower()\n",
    "df['univ'] = df['univ'].str.lower()\n",
    "df['prodi'] = df['prodi'].str.lower()"
   ]
  },
  {
   "cell_type": "code",
   "execution_count": 56,
   "id": "7ca38488",
   "metadata": {},
   "outputs": [
    {
     "data": {
      "text/html": [
       "<div>\n",
       "<style scoped>\n",
       "    .dataframe tbody tr th:only-of-type {\n",
       "        vertical-align: middle;\n",
       "    }\n",
       "\n",
       "    .dataframe tbody tr th {\n",
       "        vertical-align: top;\n",
       "    }\n",
       "\n",
       "    .dataframe thead th {\n",
       "        text-align: right;\n",
       "    }\n",
       "</style>\n",
       "<table border=\"1\" class=\"dataframe\">\n",
       "  <thead>\n",
       "    <tr style=\"text-align: right;\">\n",
       "      <th></th>\n",
       "      <th>nama</th>\n",
       "      <th>nim</th>\n",
       "      <th>univ</th>\n",
       "      <th>prodi</th>\n",
       "      <th>nohp</th>\n",
       "    </tr>\n",
       "  </thead>\n",
       "  <tbody>\n",
       "    <tr>\n",
       "      <th>0</th>\n",
       "      <td>shi doel</td>\n",
       "      <td>2033321</td>\n",
       "      <td>univ doel</td>\n",
       "      <td>teknik</td>\n",
       "      <td>82225700071</td>\n",
       "    </tr>\n",
       "    <tr>\n",
       "      <th>1</th>\n",
       "      <td>shi jack</td>\n",
       "      <td>223910123</td>\n",
       "      <td>univ jack</td>\n",
       "      <td>psio</td>\n",
       "      <td>99239292</td>\n",
       "    </tr>\n",
       "    <tr>\n",
       "      <th>2</th>\n",
       "      <td>shi liem</td>\n",
       "      <td>88292923</td>\n",
       "      <td>univ liem</td>\n",
       "      <td>fkip</td>\n",
       "      <td>992323232</td>\n",
       "    </tr>\n",
       "  </tbody>\n",
       "</table>\n",
       "</div>"
      ],
      "text/plain": [
       "       nama        nim       univ   prodi         nohp\n",
       "0  shi doel    2033321  univ doel  teknik  82225700071\n",
       "1  shi jack  223910123  univ jack    psio     99239292\n",
       "2  shi liem   88292923  univ liem    fkip    992323232"
      ]
     },
     "execution_count": 56,
     "metadata": {},
     "output_type": "execute_result"
    }
   ],
   "source": [
    "df"
   ]
  },
  {
   "cell_type": "code",
   "execution_count": 58,
   "id": "1b1b238d",
   "metadata": {},
   "outputs": [
    {
     "ename": "KeyError",
     "evalue": "'key of type tuple not found and not a MultiIndex'",
     "output_type": "error",
     "traceback": [
      "\u001b[0;31m---------------------------------------------------------------------------\u001b[0m",
      "\u001b[0;31mKeyError\u001b[0m                                  Traceback (most recent call last)",
      "Input \u001b[0;32mIn [58]\u001b[0m, in \u001b[0;36m<cell line: 1>\u001b[0;34m()\u001b[0m\n\u001b[1;32m      1\u001b[0m \u001b[38;5;28;01mfor\u001b[39;00m data \u001b[38;5;129;01min\u001b[39;00m df\u001b[38;5;241m.\u001b[39miterrows():\n\u001b[0;32m----> 2\u001b[0m     \u001b[38;5;28mprint\u001b[39m(\u001b[43mdf\u001b[49m\u001b[43m[\u001b[49m\u001b[38;5;124;43m'\u001b[39;49m\u001b[38;5;124;43mnama\u001b[39;49m\u001b[38;5;124;43m'\u001b[39;49m\u001b[43m]\u001b[49m\u001b[43m[\u001b[49m\u001b[43mdata\u001b[49m\u001b[43m]\u001b[49m, df[nim][data])\n",
      "File \u001b[0;32m~/opt/anaconda3/lib/python3.9/site-packages/pandas/core/series.py:984\u001b[0m, in \u001b[0;36mSeries.__getitem__\u001b[0;34m(self, key)\u001b[0m\n\u001b[1;32m    981\u001b[0m     key \u001b[38;5;241m=\u001b[39m np\u001b[38;5;241m.\u001b[39masarray(key, dtype\u001b[38;5;241m=\u001b[39m\u001b[38;5;28mbool\u001b[39m)\n\u001b[1;32m    982\u001b[0m     \u001b[38;5;28;01mreturn\u001b[39;00m \u001b[38;5;28mself\u001b[39m\u001b[38;5;241m.\u001b[39m_get_values(key)\n\u001b[0;32m--> 984\u001b[0m \u001b[38;5;28;01mreturn\u001b[39;00m \u001b[38;5;28;43mself\u001b[39;49m\u001b[38;5;241;43m.\u001b[39;49m\u001b[43m_get_with\u001b[49m\u001b[43m(\u001b[49m\u001b[43mkey\u001b[49m\u001b[43m)\u001b[49m\n",
      "File \u001b[0;32m~/opt/anaconda3/lib/python3.9/site-packages/pandas/core/series.py:999\u001b[0m, in \u001b[0;36mSeries._get_with\u001b[0;34m(self, key)\u001b[0m\n\u001b[1;32m    994\u001b[0m     \u001b[38;5;28;01mraise\u001b[39;00m \u001b[38;5;167;01mTypeError\u001b[39;00m(\n\u001b[1;32m    995\u001b[0m         \u001b[38;5;124m\"\u001b[39m\u001b[38;5;124mIndexing a Series with DataFrame is not \u001b[39m\u001b[38;5;124m\"\u001b[39m\n\u001b[1;32m    996\u001b[0m         \u001b[38;5;124m\"\u001b[39m\u001b[38;5;124msupported, use the appropriate DataFrame column\u001b[39m\u001b[38;5;124m\"\u001b[39m\n\u001b[1;32m    997\u001b[0m     )\n\u001b[1;32m    998\u001b[0m \u001b[38;5;28;01melif\u001b[39;00m \u001b[38;5;28misinstance\u001b[39m(key, \u001b[38;5;28mtuple\u001b[39m):\n\u001b[0;32m--> 999\u001b[0m     \u001b[38;5;28;01mreturn\u001b[39;00m \u001b[38;5;28;43mself\u001b[39;49m\u001b[38;5;241;43m.\u001b[39;49m\u001b[43m_get_values_tuple\u001b[49m\u001b[43m(\u001b[49m\u001b[43mkey\u001b[49m\u001b[43m)\u001b[49m\n\u001b[1;32m   1001\u001b[0m \u001b[38;5;28;01melif\u001b[39;00m \u001b[38;5;129;01mnot\u001b[39;00m is_list_like(key):\n\u001b[1;32m   1002\u001b[0m     \u001b[38;5;66;03m# e.g. scalars that aren't recognized by lib.is_scalar, GH#32684\u001b[39;00m\n\u001b[1;32m   1003\u001b[0m     \u001b[38;5;28;01mreturn\u001b[39;00m \u001b[38;5;28mself\u001b[39m\u001b[38;5;241m.\u001b[39mloc[key]\n",
      "File \u001b[0;32m~/opt/anaconda3/lib/python3.9/site-packages/pandas/core/series.py:1034\u001b[0m, in \u001b[0;36mSeries._get_values_tuple\u001b[0;34m(self, key)\u001b[0m\n\u001b[1;32m   1031\u001b[0m     \u001b[38;5;28;01mreturn\u001b[39;00m result\n\u001b[1;32m   1033\u001b[0m \u001b[38;5;28;01mif\u001b[39;00m \u001b[38;5;129;01mnot\u001b[39;00m \u001b[38;5;28misinstance\u001b[39m(\u001b[38;5;28mself\u001b[39m\u001b[38;5;241m.\u001b[39mindex, MultiIndex):\n\u001b[0;32m-> 1034\u001b[0m     \u001b[38;5;28;01mraise\u001b[39;00m \u001b[38;5;167;01mKeyError\u001b[39;00m(\u001b[38;5;124m\"\u001b[39m\u001b[38;5;124mkey of type tuple not found and not a MultiIndex\u001b[39m\u001b[38;5;124m\"\u001b[39m)\n\u001b[1;32m   1036\u001b[0m \u001b[38;5;66;03m# If key is contained, would have returned by now\u001b[39;00m\n\u001b[1;32m   1037\u001b[0m indexer, new_index \u001b[38;5;241m=\u001b[39m \u001b[38;5;28mself\u001b[39m\u001b[38;5;241m.\u001b[39mindex\u001b[38;5;241m.\u001b[39mget_loc_level(key)\n",
      "\u001b[0;31mKeyError\u001b[0m: 'key of type tuple not found and not a MultiIndex'"
     ]
    }
   ],
   "source": [
    "for data in df.iterrows():\n",
    "    print(df['nama'][data], df[nim][data])    "
   ]
  },
  {
   "cell_type": "code",
   "execution_count": 59,
   "id": "96b8327d",
   "metadata": {},
   "outputs": [
    {
     "name": "stdout",
     "output_type": "stream",
     "text": [
      "Given Dataframe :\n",
      "         Name  Age    Stream  Percentage\n",
      "0      Ankit   21      Math          88\n",
      "1       Amit   19  Commerce          92\n",
      "2  Aishwarya   20      Arts          95\n",
      "3   Priyanka   18   Biology          70\n",
      "\n",
      "Iterating over rows using index attribute :\n",
      "\n",
      "Ankit Math\n",
      "Amit Commerce\n",
      "Aishwarya Arts\n",
      "Priyanka Biology\n"
     ]
    }
   ],
   "source": [
    "# Define a dictionary containing students data\n",
    "data = {'Name': ['Ankit', 'Amit',\n",
    "                 'Aishwarya', 'Priyanka'],\n",
    "        'Age': [21, 19, 20, 18],\n",
    "        'Stream': ['Math', 'Commerce',\n",
    "                   'Arts', 'Biology'],\n",
    "        'Percentage': [88, 92, 95, 70]}\n",
    "  \n",
    "# Convert the dictionary into DataFrame\n",
    "df = pd.DataFrame(data, columns=['Name', 'Age', \n",
    "                                 'Stream', 'Percentage'])\n",
    "  \n",
    "print(\"Given Dataframe :\\n\", df)\n",
    "  \n",
    "print(\"\\nIterating over rows using index attribute :\\n\")\n",
    "  \n",
    "# iterate through each row and select\n",
    "# 'Name' and 'Stream' column respectively.\n",
    "for ind in df.index:\n",
    "    print(df['Name'][ind], df['Stream'][ind])"
   ]
  },
  {
   "cell_type": "code",
   "execution_count": null,
   "id": "cc0e3076",
   "metadata": {},
   "outputs": [],
   "source": []
  }
 ],
 "metadata": {
  "kernelspec": {
   "display_name": "Python 3 (ipykernel)",
   "language": "python",
   "name": "python3"
  },
  "language_info": {
   "codemirror_mode": {
    "name": "ipython",
    "version": 3
   },
   "file_extension": ".py",
   "mimetype": "text/x-python",
   "name": "python",
   "nbconvert_exporter": "python",
   "pygments_lexer": "ipython3",
   "version": "3.9.12"
  }
 },
 "nbformat": 4,
 "nbformat_minor": 5
}
