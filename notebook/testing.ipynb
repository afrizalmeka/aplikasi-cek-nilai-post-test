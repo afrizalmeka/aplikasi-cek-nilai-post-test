{
 "cells": [
  {
   "cell_type": "code",
   "execution_count": 1,
   "id": "ab510cf6",
   "metadata": {},
   "outputs": [],
   "source": [
    "import pandas as pd"
   ]
  },
  {
   "cell_type": "code",
   "execution_count": 2,
   "id": "c0bb7491",
   "metadata": {},
   "outputs": [],
   "source": [
    "dir = \"/Users/afrizalmulyana/Library/CloudStorage/OneDrive-PTORBITVENTURAINODNESIA/Afrizal Meka/Project Pribadi/aplikasi-cek-nilai-posttest/database/database.xlsx\"\n",
    "df = pd.read_excel(dir)\n",
    "#index_col=0"
   ]
  },
  {
   "cell_type": "code",
   "execution_count": 3,
   "id": "f0cc61b1",
   "metadata": {},
   "outputs": [
    {
     "data": {
      "text/html": [
       "<div>\n",
       "<style scoped>\n",
       "    .dataframe tbody tr th:only-of-type {\n",
       "        vertical-align: middle;\n",
       "    }\n",
       "\n",
       "    .dataframe tbody tr th {\n",
       "        vertical-align: top;\n",
       "    }\n",
       "\n",
       "    .dataframe thead th {\n",
       "        text-align: right;\n",
       "    }\n",
       "</style>\n",
       "<table border=\"1\" class=\"dataframe\">\n",
       "  <thead>\n",
       "    <tr style=\"text-align: right;\">\n",
       "      <th></th>\n",
       "      <th>nama</th>\n",
       "      <th>nim</th>\n",
       "      <th>univ</th>\n",
       "      <th>prodi</th>\n",
       "      <th>nohp</th>\n",
       "    </tr>\n",
       "  </thead>\n",
       "  <tbody>\n",
       "    <tr>\n",
       "      <th>0</th>\n",
       "      <td>Shi Doel</td>\n",
       "      <td>2033321</td>\n",
       "      <td>Univ Doel</td>\n",
       "      <td>Teknik</td>\n",
       "      <td>82225700071</td>\n",
       "    </tr>\n",
       "    <tr>\n",
       "      <th>1</th>\n",
       "      <td>Shi Jack</td>\n",
       "      <td>223910123</td>\n",
       "      <td>Univ Jack</td>\n",
       "      <td>Psio</td>\n",
       "      <td>99239292</td>\n",
       "    </tr>\n",
       "    <tr>\n",
       "      <th>2</th>\n",
       "      <td>Shi Liem</td>\n",
       "      <td>88292923</td>\n",
       "      <td>Univ Liem</td>\n",
       "      <td>FKIP</td>\n",
       "      <td>992323232</td>\n",
       "    </tr>\n",
       "  </tbody>\n",
       "</table>\n",
       "</div>"
      ],
      "text/plain": [
       "       nama        nim       univ   prodi         nohp\n",
       "0  Shi Doel    2033321  Univ Doel  Teknik  82225700071\n",
       "1  Shi Jack  223910123  Univ Jack    Psio     99239292\n",
       "2  Shi Liem   88292923  Univ Liem    FKIP    992323232"
      ]
     },
     "execution_count": 3,
     "metadata": {},
     "output_type": "execute_result"
    }
   ],
   "source": [
    "df"
   ]
  },
  {
   "cell_type": "code",
   "execution_count": 4,
   "id": "4da347d0",
   "metadata": {},
   "outputs": [],
   "source": [
    "df['nama'] = df['nama'].str.lower()\n",
    "df['univ'] = df['univ'].str.lower()\n",
    "df['prodi'] = df['prodi'].str.lower()"
   ]
  },
  {
   "cell_type": "code",
   "execution_count": 20,
   "id": "7ca38488",
   "metadata": {},
   "outputs": [
    {
     "data": {
      "text/html": [
       "<div>\n",
       "<style scoped>\n",
       "    .dataframe tbody tr th:only-of-type {\n",
       "        vertical-align: middle;\n",
       "    }\n",
       "\n",
       "    .dataframe tbody tr th {\n",
       "        vertical-align: top;\n",
       "    }\n",
       "\n",
       "    .dataframe thead th {\n",
       "        text-align: right;\n",
       "    }\n",
       "</style>\n",
       "<table border=\"1\" class=\"dataframe\">\n",
       "  <thead>\n",
       "    <tr style=\"text-align: right;\">\n",
       "      <th></th>\n",
       "      <th>nama</th>\n",
       "      <th>nim</th>\n",
       "      <th>univ</th>\n",
       "      <th>prodi</th>\n",
       "      <th>nohp</th>\n",
       "    </tr>\n",
       "  </thead>\n",
       "  <tbody>\n",
       "    <tr>\n",
       "      <th>0</th>\n",
       "      <td>shi doel</td>\n",
       "      <td>2033321</td>\n",
       "      <td>univ doel</td>\n",
       "      <td>teknik</td>\n",
       "      <td>82225700071</td>\n",
       "    </tr>\n",
       "    <tr>\n",
       "      <th>1</th>\n",
       "      <td>shi jack</td>\n",
       "      <td>223910123</td>\n",
       "      <td>univ jack</td>\n",
       "      <td>psio</td>\n",
       "      <td>99239292</td>\n",
       "    </tr>\n",
       "    <tr>\n",
       "      <th>2</th>\n",
       "      <td>shi liem</td>\n",
       "      <td>88292923</td>\n",
       "      <td>univ liem</td>\n",
       "      <td>fkip</td>\n",
       "      <td>992323232</td>\n",
       "    </tr>\n",
       "  </tbody>\n",
       "</table>\n",
       "</div>"
      ],
      "text/plain": [
       "       nama        nim       univ   prodi         nohp\n",
       "0  shi doel    2033321  univ doel  teknik  82225700071\n",
       "1  shi jack  223910123  univ jack    psio     99239292\n",
       "2  shi liem   88292923  univ liem    fkip    992323232"
      ]
     },
     "execution_count": 20,
     "metadata": {},
     "output_type": "execute_result"
    }
   ],
   "source": [
    "df"
   ]
  },
  {
   "cell_type": "code",
   "execution_count": 46,
   "id": "f31433b2",
   "metadata": {},
   "outputs": [
    {
     "data": {
      "text/plain": [
       "3"
      ]
     },
     "execution_count": 46,
     "metadata": {},
     "output_type": "execute_result"
    }
   ],
   "source": [
    "size = df.shape\n",
    "size = size[0]\n",
    "size"
   ]
  },
  {
   "cell_type": "code",
   "execution_count": 59,
   "id": "1b1b238d",
   "metadata": {},
   "outputs": [
    {
     "name": "stdout",
     "output_type": "stream",
     "text": [
      "nama : kk\n",
      "data tidak ditemukan\n"
     ]
    }
   ],
   "source": [
    "input_nama = str(input(\"nama : \")).lower()\n",
    "\n",
    "size = df.shape\n",
    "size = size[0] - 1\n",
    "\n",
    "for data in df.index:\n",
    "    name = df['nama'][data]\n",
    "    \n",
    "    if input_nama == name:\n",
    "        print(df['nohp'][data])\n",
    "        break\n",
    "    \n",
    "    if data == size:\n",
    "        print(\"data tidak ditemukan\")"
   ]
  },
  {
   "cell_type": "code",
   "execution_count": 54,
   "id": "96b8327d",
   "metadata": {},
   "outputs": [
    {
     "name": "stdout",
     "output_type": "stream",
     "text": [
      "Given Dataframe :\n",
      "         Name  Age    Stream  Percentage\n",
      "0      Ankit   21      Math          88\n",
      "1       Amit   19  Commerce          92\n",
      "2  Aishwarya   20      Arts          95\n",
      "3   Priyanka   18   Biology          70\n",
      "\n",
      "Iterating over rows using index attribute :\n",
      "\n",
      "Amit Commerce\n"
     ]
    }
   ],
   "source": [
    "# Define a dictionary containing students data\n",
    "data = {'Name': ['Ankit', 'Amit',\n",
    "                 'Aishwarya', 'Priyanka'],\n",
    "        'Age': [21, 19, 20, 18],\n",
    "        'Stream': ['Math', 'Commerce',\n",
    "                   'Arts', 'Biology'],\n",
    "        'Percentage': [88, 92, 95, 70]}\n",
    "  \n",
    "# Convert the dictionary into DataFrame\n",
    "df2 = pd.DataFrame(data, columns=['Name', 'Age', \n",
    "                                 'Stream', 'Percentage'])\n",
    "  \n",
    "print(\"Given Dataframe :\\n\", df2)\n",
    "  \n",
    "print(\"\\nIterating over rows using index attribute :\\n\")\n",
    "  \n",
    "# iterate through each row and select\n",
    "# 'Name' and 'Stream' column respectively.\n",
    "for ind in df2.index:\n",
    "    name = df2['Name'][ind]\n",
    "    if name == 'Amit':\n",
    "        print(df2['Name'][ind], df2['Stream'][ind])"
   ]
  },
  {
   "cell_type": "code",
   "execution_count": null,
   "id": "cc0e3076",
   "metadata": {},
   "outputs": [],
   "source": []
  }
 ],
 "metadata": {
  "kernelspec": {
   "display_name": "Python 3 (ipykernel)",
   "language": "python",
   "name": "python3"
  },
  "language_info": {
   "codemirror_mode": {
    "name": "ipython",
    "version": 3
   },
   "file_extension": ".py",
   "mimetype": "text/x-python",
   "name": "python",
   "nbconvert_exporter": "python",
   "pygments_lexer": "ipython3",
   "version": "3.9.12"
  }
 },
 "nbformat": 4,
 "nbformat_minor": 5
}
