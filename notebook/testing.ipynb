{
 "cells": [
  {
   "cell_type": "code",
   "execution_count": 1,
   "id": "ab510cf6",
   "metadata": {},
   "outputs": [],
   "source": [
    "import pandas as pd"
   ]
  },
  {
   "cell_type": "code",
   "execution_count": 2,
   "id": "c0bb7491",
   "metadata": {},
   "outputs": [],
   "source": [
    "dir = \"/Users/afrizalmulyana/Library/CloudStorage/OneDrive-PTORBITVENTURAINODNESIA/Afrizal Meka/Project Pribadi/aplikasi-cek-nilai-posttest/database/database.xlsx\"\n",
    "df = pd.read_excel(dir)\n",
    "#index_col=0"
   ]
  },
  {
   "cell_type": "code",
   "execution_count": 3,
   "id": "f0cc61b1",
   "metadata": {},
   "outputs": [
    {
     "data": {
      "text/html": [
       "<div>\n",
       "<style scoped>\n",
       "    .dataframe tbody tr th:only-of-type {\n",
       "        vertical-align: middle;\n",
       "    }\n",
       "\n",
       "    .dataframe tbody tr th {\n",
       "        vertical-align: top;\n",
       "    }\n",
       "\n",
       "    .dataframe thead th {\n",
       "        text-align: right;\n",
       "    }\n",
       "</style>\n",
       "<table border=\"1\" class=\"dataframe\">\n",
       "  <thead>\n",
       "    <tr style=\"text-align: right;\">\n",
       "      <th></th>\n",
       "      <th>nama</th>\n",
       "      <th>nim</th>\n",
       "      <th>univ</th>\n",
       "      <th>prodi</th>\n",
       "      <th>nohp</th>\n",
       "      <th>ds</th>\n",
       "      <th>nlp</th>\n",
       "      <th>cv</th>\n",
       "      <th>tech</th>\n",
       "    </tr>\n",
       "  </thead>\n",
       "  <tbody>\n",
       "    <tr>\n",
       "      <th>0</th>\n",
       "      <td>Shi Doel</td>\n",
       "      <td>2033321</td>\n",
       "      <td>Univ Doel</td>\n",
       "      <td>Teknik</td>\n",
       "      <td>82225700071</td>\n",
       "      <td>80</td>\n",
       "      <td>90</td>\n",
       "      <td>60</td>\n",
       "      <td>100</td>\n",
       "    </tr>\n",
       "    <tr>\n",
       "      <th>1</th>\n",
       "      <td>Shi Jack</td>\n",
       "      <td>223910123</td>\n",
       "      <td>Univ Jack</td>\n",
       "      <td>Psio</td>\n",
       "      <td>99239292</td>\n",
       "      <td>65</td>\n",
       "      <td>80</td>\n",
       "      <td>85</td>\n",
       "      <td>90</td>\n",
       "    </tr>\n",
       "    <tr>\n",
       "      <th>2</th>\n",
       "      <td>Shi Liem</td>\n",
       "      <td>88292923</td>\n",
       "      <td>Univ Liem</td>\n",
       "      <td>FKIP</td>\n",
       "      <td>992323232</td>\n",
       "      <td>70</td>\n",
       "      <td>80</td>\n",
       "      <td>75</td>\n",
       "      <td>90</td>\n",
       "    </tr>\n",
       "  </tbody>\n",
       "</table>\n",
       "</div>"
      ],
      "text/plain": [
       "       nama        nim       univ   prodi         nohp  ds  nlp  cv  tech\n",
       "0  Shi Doel    2033321  Univ Doel  Teknik  82225700071  80   90  60   100\n",
       "1  Shi Jack  223910123  Univ Jack    Psio     99239292  65   80  85    90\n",
       "2  Shi Liem   88292923  Univ Liem    FKIP    992323232  70   80  75    90"
      ]
     },
     "execution_count": 3,
     "metadata": {},
     "output_type": "execute_result"
    }
   ],
   "source": [
    "df"
   ]
  },
  {
   "cell_type": "code",
   "execution_count": 7,
   "id": "0b59001d",
   "metadata": {},
   "outputs": [
    {
     "name": "stdout",
     "output_type": "stream",
     "text": [
      "<class 'pandas.core.frame.DataFrame'>\n",
      "RangeIndex: 3 entries, 0 to 2\n",
      "Data columns (total 9 columns):\n",
      " #   Column  Non-Null Count  Dtype \n",
      "---  ------  --------------  ----- \n",
      " 0   nama    3 non-null      object\n",
      " 1   nim     3 non-null      int64 \n",
      " 2   univ    3 non-null      object\n",
      " 3   prodi   3 non-null      object\n",
      " 4   nohp    3 non-null      int64 \n",
      " 5   ds      3 non-null      int64 \n",
      " 6   nlp     3 non-null      int64 \n",
      " 7   cv      3 non-null      int64 \n",
      " 8   tech    3 non-null      int64 \n",
      "dtypes: int64(6), object(3)\n",
      "memory usage: 344.0+ bytes\n"
     ]
    }
   ],
   "source": [
    "df.info()"
   ]
  },
  {
   "cell_type": "code",
   "execution_count": 4,
   "id": "4da347d0",
   "metadata": {},
   "outputs": [],
   "source": [
    "df['nama'] = df['nama'].str.lower()\n",
    "df['univ'] = df['univ'].str.lower()\n",
    "df['prodi'] = df['prodi'].str.lower()"
   ]
  },
  {
   "cell_type": "code",
   "execution_count": 5,
   "id": "7ca38488",
   "metadata": {},
   "outputs": [
    {
     "data": {
      "text/html": [
       "<div>\n",
       "<style scoped>\n",
       "    .dataframe tbody tr th:only-of-type {\n",
       "        vertical-align: middle;\n",
       "    }\n",
       "\n",
       "    .dataframe tbody tr th {\n",
       "        vertical-align: top;\n",
       "    }\n",
       "\n",
       "    .dataframe thead th {\n",
       "        text-align: right;\n",
       "    }\n",
       "</style>\n",
       "<table border=\"1\" class=\"dataframe\">\n",
       "  <thead>\n",
       "    <tr style=\"text-align: right;\">\n",
       "      <th></th>\n",
       "      <th>nama</th>\n",
       "      <th>nim</th>\n",
       "      <th>univ</th>\n",
       "      <th>prodi</th>\n",
       "      <th>nohp</th>\n",
       "      <th>ds</th>\n",
       "      <th>nlp</th>\n",
       "      <th>cv</th>\n",
       "      <th>tech</th>\n",
       "    </tr>\n",
       "  </thead>\n",
       "  <tbody>\n",
       "    <tr>\n",
       "      <th>0</th>\n",
       "      <td>shi doel</td>\n",
       "      <td>2033321</td>\n",
       "      <td>univ doel</td>\n",
       "      <td>teknik</td>\n",
       "      <td>82225700071</td>\n",
       "      <td>80</td>\n",
       "      <td>90</td>\n",
       "      <td>60</td>\n",
       "      <td>100</td>\n",
       "    </tr>\n",
       "    <tr>\n",
       "      <th>1</th>\n",
       "      <td>shi jack</td>\n",
       "      <td>223910123</td>\n",
       "      <td>univ jack</td>\n",
       "      <td>psio</td>\n",
       "      <td>99239292</td>\n",
       "      <td>65</td>\n",
       "      <td>80</td>\n",
       "      <td>85</td>\n",
       "      <td>90</td>\n",
       "    </tr>\n",
       "    <tr>\n",
       "      <th>2</th>\n",
       "      <td>shi liem</td>\n",
       "      <td>88292923</td>\n",
       "      <td>univ liem</td>\n",
       "      <td>fkip</td>\n",
       "      <td>992323232</td>\n",
       "      <td>70</td>\n",
       "      <td>80</td>\n",
       "      <td>75</td>\n",
       "      <td>90</td>\n",
       "    </tr>\n",
       "  </tbody>\n",
       "</table>\n",
       "</div>"
      ],
      "text/plain": [
       "       nama        nim       univ   prodi         nohp  ds  nlp  cv  tech\n",
       "0  shi doel    2033321  univ doel  teknik  82225700071  80   90  60   100\n",
       "1  shi jack  223910123  univ jack    psio     99239292  65   80  85    90\n",
       "2  shi liem   88292923  univ liem    fkip    992323232  70   80  75    90"
      ]
     },
     "execution_count": 5,
     "metadata": {},
     "output_type": "execute_result"
    }
   ],
   "source": [
    "df"
   ]
  },
  {
   "cell_type": "code",
   "execution_count": 6,
   "id": "56e40aa8",
   "metadata": {},
   "outputs": [
    {
     "data": {
      "text/plain": [
       "3"
      ]
     },
     "execution_count": 6,
     "metadata": {},
     "output_type": "execute_result"
    }
   ],
   "source": [
    "size = df.shape\n",
    "size = size[0]\n",
    "size"
   ]
  },
  {
   "cell_type": "code",
   "execution_count": 9,
   "id": "1b1b238d",
   "metadata": {},
   "outputs": [
    {
     "name": "stdout",
     "output_type": "stream",
     "text": [
      "nama : shi jack\n"
     ]
    },
    {
     "ename": "AttributeError",
     "evalue": "'str' object has no attribute 'append'",
     "output_type": "error",
     "traceback": [
      "\u001b[0;31m---------------------------------------------------------------------------\u001b[0m",
      "\u001b[0;31mAttributeError\u001b[0m                            Traceback (most recent call last)",
      "Input \u001b[0;32mIn [9]\u001b[0m, in \u001b[0;36m<cell line: 10>\u001b[0;34m()\u001b[0m\n\u001b[1;32m     11\u001b[0m name \u001b[38;5;241m=\u001b[39m df[\u001b[38;5;124m'\u001b[39m\u001b[38;5;124mnama\u001b[39m\u001b[38;5;124m'\u001b[39m][data]\n\u001b[1;32m     13\u001b[0m \u001b[38;5;28;01mif\u001b[39;00m input_nama \u001b[38;5;241m==\u001b[39m name:\n\u001b[0;32m---> 14\u001b[0m     \u001b[43mds\u001b[49m\u001b[38;5;241;43m.\u001b[39;49m\u001b[43mappend\u001b[49m(df[\u001b[38;5;124m'\u001b[39m\u001b[38;5;124mds\u001b[39m\u001b[38;5;124m'\u001b[39m][x])\n\u001b[1;32m     15\u001b[0m     nlp\u001b[38;5;241m.\u001b[39mappend(df[\u001b[38;5;124m'\u001b[39m\u001b[38;5;124mnlp\u001b[39m\u001b[38;5;124m'\u001b[39m][x])\n\u001b[1;32m     16\u001b[0m     cv\u001b[38;5;241m.\u001b[39mappend(df[\u001b[38;5;124m'\u001b[39m\u001b[38;5;124mcv\u001b[39m\u001b[38;5;124m'\u001b[39m][x])\n",
      "\u001b[0;31mAttributeError\u001b[0m: 'str' object has no attribute 'append'"
     ]
    }
   ],
   "source": [
    "input_nama = str(input(\"nama : \")).lower()\n",
    "\n",
    "size = df.shape\n",
    "size = size[0] - 1\n",
    "ds = '0'\n",
    "nlp = '0'\n",
    "cv = '0'\n",
    "tech = '0'\n",
    "\n",
    "for data in df.index:\n",
    "    name = df['nama'][data]\n",
    "    \n",
    "    if input_nama == name:\n",
    "        ds.append(df['ds'][x])\n",
    "        nlp.append(df['nlp'][x])\n",
    "        cv.append(df['cv'][x])\n",
    "        tech.append(df['tech'][x])\n",
    "        break\n",
    "    \n",
    "    elif data == size:\n",
    "        print(\"data tidak ditemukan\")\n",
    "        \n",
    "print(ds)"
   ]
  },
  {
   "cell_type": "code",
   "execution_count": 54,
   "id": "96b8327d",
   "metadata": {},
   "outputs": [
    {
     "name": "stdout",
     "output_type": "stream",
     "text": [
      "Given Dataframe :\n",
      "         Name  Age    Stream  Percentage\n",
      "0      Ankit   21      Math          88\n",
      "1       Amit   19  Commerce          92\n",
      "2  Aishwarya   20      Arts          95\n",
      "3   Priyanka   18   Biology          70\n",
      "\n",
      "Iterating over rows using index attribute :\n",
      "\n",
      "Amit Commerce\n"
     ]
    }
   ],
   "source": [
    "# Define a dictionary containing students data\n",
    "data = {'Name': ['Ankit', 'Amit',\n",
    "                 'Aishwarya', 'Priyanka'],\n",
    "        'Age': [21, 19, 20, 18],\n",
    "        'Stream': ['Math', 'Commerce',\n",
    "                   'Arts', 'Biology'],\n",
    "        'Percentage': [88, 92, 95, 70]}\n",
    "  \n",
    "# Convert the dictionary into DataFrame\n",
    "df2 = pd.DataFrame(data, columns=['Name', 'Age', \n",
    "                                 'Stream', 'Percentage'])\n",
    "  \n",
    "print(\"Given Dataframe :\\n\", df2)\n",
    "  \n",
    "print(\"\\nIterating over rows using index attribute :\\n\")\n",
    "  \n",
    "# iterate through each row and select\n",
    "# 'Name' and 'Stream' column respectively.\n",
    "for ind in df2.index:\n",
    "    name = df2['Name'][ind]\n",
    "    if name == 'Amit':\n",
    "        print(df2['Name'][ind], df2['Stream'][ind])"
   ]
  },
  {
   "cell_type": "code",
   "execution_count": 75,
   "id": "da08f6d7",
   "metadata": {},
   "outputs": [
    {
     "name": "stdout",
     "output_type": "stream",
     "text": [
      "\n",
      "INSTALLED VERSIONS\n",
      "------------------\n",
      "commit           : 4bfe3d07b4858144c219b9346329027024102ab6\n",
      "python           : 3.9.12.final.0\n",
      "python-bits      : 64\n",
      "OS               : Darwin\n",
      "OS-release       : 22.1.0\n",
      "Version          : Darwin Kernel Version 22.1.0: Sun Oct  9 20:15:52 PDT 2022; root:xnu-8792.41.9~2/RELEASE_ARM64_T8112\n",
      "machine          : x86_64\n",
      "processor        : i386\n",
      "byteorder        : little\n",
      "LC_ALL           : None\n",
      "LANG             : None\n",
      "LOCALE           : None.UTF-8\n",
      "\n",
      "pandas           : 1.4.2\n",
      "numpy            : 1.21.5\n",
      "pytz             : 2021.3\n",
      "dateutil         : 2.8.2\n",
      "pip              : 21.2.4\n",
      "setuptools       : 61.2.0\n",
      "Cython           : 0.29.28\n",
      "pytest           : 7.1.1\n",
      "hypothesis       : None\n",
      "sphinx           : 4.4.0\n",
      "blosc            : None\n",
      "feather          : None\n",
      "xlsxwriter       : 3.0.3\n",
      "lxml.etree       : 4.8.0\n",
      "html5lib         : None\n",
      "pymysql          : None\n",
      "psycopg2         : None\n",
      "jinja2           : 3.1.2\n",
      "IPython          : 8.2.0\n",
      "pandas_datareader: None\n",
      "bs4              : 4.11.1\n",
      "bottleneck       : 1.3.4\n",
      "brotli           : \n",
      "fastparquet      : None\n",
      "fsspec           : 2022.02.0\n",
      "gcsfs            : None\n",
      "markupsafe       : 2.0.1\n",
      "matplotlib       : 3.5.1\n",
      "numba            : 0.55.1\n",
      "numexpr          : 2.8.1\n",
      "odfpy            : None\n",
      "openpyxl         : 3.0.9\n",
      "pandas_gbq       : None\n",
      "pyarrow          : None\n",
      "pyreadstat       : None\n",
      "pyxlsb           : None\n",
      "s3fs             : None\n",
      "scipy            : 1.7.3\n",
      "snappy           : \n",
      "sqlalchemy       : 1.4.32\n",
      "tables           : 3.6.1\n",
      "tabulate         : 0.8.9\n",
      "xarray           : 0.20.1\n",
      "xlrd             : 2.0.1\n",
      "xlwt             : None\n",
      "zstandard        : None\n"
     ]
    }
   ],
   "source": [
    "pd.show_versions()"
   ]
  },
  {
   "cell_type": "code",
   "execution_count": null,
   "id": "60f22f2f",
   "metadata": {},
   "outputs": [],
   "source": []
  }
 ],
 "metadata": {
  "kernelspec": {
   "display_name": "Python 3 (ipykernel)",
   "language": "python",
   "name": "python3"
  },
  "language_info": {
   "codemirror_mode": {
    "name": "ipython",
    "version": 3
   },
   "file_extension": ".py",
   "mimetype": "text/x-python",
   "name": "python",
   "nbconvert_exporter": "python",
   "pygments_lexer": "ipython3",
   "version": "3.9.12"
  }
 },
 "nbformat": 4,
 "nbformat_minor": 5
}
